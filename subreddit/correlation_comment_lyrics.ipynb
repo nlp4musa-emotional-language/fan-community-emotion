{
 "cells": [
  {
   "cell_type": "code",
   "execution_count": 74,
   "metadata": {},
   "outputs": [],
   "source": [
    "import pickle as pkl\n",
    "import numpy as np\n",
    "import matplotlib.pyplot as plt\n",
    "%matplotlib inline\n",
    "import pandas as pd\n",
    "\n",
    "nrc_dim = 8\n",
    "\n",
    "target_com = ['blues', 'country', 'electronicmusic',  'folk', 'Jazz', 'Metal', 'punk', 'rap', 'rnb', 'Rock']\n",
    "target_lyric = ['Blues', 'Country', 'Electronic', 'Folk', 'Jazz', 'Metal', 'Punk','Rap', 'RnB', 'Rock']\n",
    "emotions = ['anger', 'anticipation', 'disgust', 'fear', 'joy', 'sadness',\\\n",
    "            'surprise', 'trust', 'positive', 'negative']"
   ]
  },
  {
   "cell_type": "code",
   "execution_count": 75,
   "metadata": {},
   "outputs": [],
   "source": [
    "data_ = None\n",
    "with open('./../subreddits_emotion_counts.pkl', 'rb') as inf:\n",
    "    data_ = pkl.load(inf)\n",
    "data = []\n",
    "for tar_gen in target_com:\n",
    "    data.append([data_[tar_gen][i] for i in emotions])"
   ]
  },
  {
   "cell_type": "code",
   "execution_count": 76,
   "metadata": {},
   "outputs": [],
   "source": [
    "#X for comments, Y for lyrics\n",
    "for i in range(len(data)):\n",
    "    data[i] = data[i][:nrc_dim]/np.sum(data[i][:nrc_dim])\n",
    "    \n",
    "# for i in range(len(data)):\n",
    "#     print(target_com[i],data[i][0])\n",
    "       \n",
    "X = np.concatenate([data[0][:nrc_dim], data[1][:nrc_dim]])\n",
    "for i in range(2, len(data)):\n",
    "    X = np.concatenate([X, data[i][:nrc_dim]])\n",
    "X = X.reshape(-1, nrc_dim)"
   ]
  },
  {
   "cell_type": "code",
   "execution_count": 77,
   "metadata": {},
   "outputs": [],
   "source": [
    "# adding lyric data for the figure\n",
    "data_ = None\n",
    "with open('./../lyric_genre_emo_counts.pkl', 'rb') as infile:\n",
    "    data_ = pkl.load(infile)\n",
    "\n",
    "data = []\n",
    "for i in target_lyric:\n",
    "    raw_counts = list(data_[i].values())\n",
    "    data.append(raw_counts)\n",
    "\n",
    "    \n",
    "for i in range(len(data)):\n",
    "    data[i] = data[i]/np.sum(data[i][:nrc_dim])\n",
    "#     print(target_com[i],data[i][0])\n",
    "\n",
    "Y = np.concatenate([data[0][:nrc_dim], data[1][:nrc_dim]])\n",
    "for i in range(2, len(data)):\n",
    "    Y = np.concatenate([Y, data[i][:nrc_dim]])\n",
    "Y = Y.reshape(-1, nrc_dim)"
   ]
  },
  {
   "cell_type": "code",
   "execution_count": 79,
   "metadata": {
    "scrolled": true
   },
   "outputs": [
    {
     "name": "stdout",
     "output_type": "stream",
     "text": [
      "--------------------------------------\n",
      "| anger r=0.818 , p=0.004\n",
      "--------------------------------------\n",
      "| anticipation r=0.309 , p=0.385\n",
      "--------------------------------------\n",
      "| disgust r=0.794 , p=0.006\n",
      "--------------------------------------\n",
      "| fear r=0.697 , p=0.025\n",
      "--------------------------------------\n",
      "| joy r=0.661 , p=0.038\n",
      "--------------------------------------\n",
      "| sadness r=-0.139 , p=0.701\n",
      "--------------------------------------\n",
      "| surprise r=0.6 , p=0.067\n",
      "--------------------------------------\n",
      "| trust r=0.515 , p=0.128\n",
      "--------------------------------------\n"
     ]
    }
   ],
   "source": [
    "# get spearman's r for each emotion\n",
    "from scipy.stats import spearmanr\n",
    "\n",
    "print('--------------------------------------')\n",
    "for i in range(len(emotions[:nrc_dim])):\n",
    "#     print(emotions[i])\n",
    "    \n",
    "    com_vals = X[:, i]\n",
    "    lyr_vals = Y[:, i]\n",
    "    corr, pval = spearmanr(com_vals, lyr_vals)\n",
    "#     if pval<0.05:\n",
    "    print('|', emotions[i], f'r={round(corr, 3)}', f', p={round(pval, 3)}')\n",
    "    print('--------------------------------------')\n"
   ]
  },
  {
   "cell_type": "code",
   "execution_count": null,
   "metadata": {},
   "outputs": [],
   "source": []
  },
  {
   "cell_type": "code",
   "execution_count": null,
   "metadata": {},
   "outputs": [],
   "source": []
  }
 ],
 "metadata": {
  "kernelspec": {
   "display_name": "Python 3",
   "language": "python",
   "name": "python3"
  },
  "language_info": {
   "codemirror_mode": {
    "name": "ipython",
    "version": 3
   },
   "file_extension": ".py",
   "mimetype": "text/x-python",
   "name": "python",
   "nbconvert_exporter": "python",
   "pygments_lexer": "ipython3",
   "version": "3.8.3"
  }
 },
 "nbformat": 4,
 "nbformat_minor": 4
}
